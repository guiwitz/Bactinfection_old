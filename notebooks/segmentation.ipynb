{
 "cells": [
  {
   "cell_type": "code",
   "execution_count": null,
   "metadata": {},
   "outputs": [],
   "source": [
    "#%load_ext autoreload\n",
    "#%autoreload 2\n",
    "\n",
    "import ipywidgets as ipw\n",
    "from bactinfection import Gui\n",
    "%gui qt5"
   ]
  },
  {
   "cell_type": "code",
   "execution_count": null,
   "metadata": {},
   "outputs": [],
   "source": [
    "gui = Gui()"
   ]
  },
  {
   "cell_type": "code",
   "execution_count": null,
   "metadata": {},
   "outputs": [],
   "source": [
    "grid = ipw.GridspecLayout(2,2,width = '400px')\n",
    "grid[0,0] = gui.load_button\n",
    "grid[0,1] = gui.save_button\n",
    "grid[1,0] = gui.analyze_button\n",
    "grid[1,1] = gui.show_button\n",
    "grid1 = ipw.VBox([gui.bact.folders.file_list,gui.channel_field,\n",
    "          ipw.HBox([ipw.VBox([ipw.HTML('Nuclei segmentation channel'),gui.nucl_channel_seg]),\n",
    "                    ipw.VBox([ipw.HTML('Bacteria segmentation channel'),gui.bact_channel_seg]),\n",
    "                   ipw.VBox([ipw.HTML('Post processing'),\n",
    "                              gui.minsize_field,gui.fillholes_checks,gui.use_ml\n",
    "                             ])]),\n",
    "          \n",
    "         gui.out])\n",
    "grid2 = ipw.GridspecLayout(1,2,width = '600px')\n",
    "grid2[0,0] = gui.load_otherML_button\n",
    "grid2[0,1] = gui.MLfolder.file_list\n",
    "display(grid1, grid, grid2)"
   ]
  }
 ],
 "metadata": {
  "kernelspec": {
   "display_name": "Python 3",
   "language": "python",
   "name": "python3"
  },
  "language_info": {
   "codemirror_mode": {
    "name": "ipython",
    "version": 3
   },
   "file_extension": ".py",
   "mimetype": "text/x-python",
   "name": "python",
   "nbconvert_exporter": "python",
   "pygments_lexer": "ipython3",
   "version": "3.8.0"
  },
  "toc": {
   "base_numbering": 1,
   "nav_menu": {},
   "number_sections": false,
   "sideBar": true,
   "skip_h1_title": false,
   "title_cell": "Table of Contents",
   "title_sidebar": "Contents",
   "toc_cell": false,
   "toc_position": {},
   "toc_section_display": true,
   "toc_window_display": true
  }
 },
 "nbformat": 4,
 "nbformat_minor": 4
}
